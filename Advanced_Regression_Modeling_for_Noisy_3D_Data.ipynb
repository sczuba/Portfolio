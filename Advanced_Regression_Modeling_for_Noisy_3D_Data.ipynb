{
 "cells": [
  {
   "cell_type": "markdown",
   "id": "8b5eb1b8",
   "metadata": {},
   "source": [
    "# **Machine Learning Model Performance Evaluation**\n",
    "\n",
    "## **Objective**\n",
    "The goal of this project was to evaluate multiple machine learning models on a noisy 3D sinusoidal dataset to determine which model best captures the underlying data patterns. By comparing **Polynomial Regression, Random Forest, XGBoost, and a Neural Network**, we assessed their predictive accuracy and generalization ability.\n",
    "\n",
    "## **Model Performance**\n",
    "We measured model performance using **Mean Squared Error (MSE)** and **R-squared (R²)** to quantify prediction accuracy.\n",
    "\n",
    "### **Regression Model Results**\n",
    "- **Polynomial Regression**:  \n",
    "  - **MSE**: 3.8608  \n",
    "  - **R²**: 0.6863  \n",
    "  - *Struggled to fit the complex nonlinear pattern, leading to high error and low R².*\n",
    "\n",
    "- **Random Forest**:  \n",
    "  - **MSE**: 0.2202  \n",
    "  - **R²**: 0.9821  \n",
    "  - *Achieved the best performance with a strong fit to the data and minimal error.*\n",
    "\n",
    "- **XGBoost**:  \n",
    "  - **MSE**: 0.2640  \n",
    "  - **R²**: 0.9785  \n",
    "  - *Performed similarly to Random Forest, demonstrating strong predictive capability.*\n",
    "\n",
    "- **Neural Network**:  \n",
    "  - **MSE**: 0.5485  \n",
    "  - **R²**: 0.9554  \n",
    "  - *Captured patterns effectively but underperformed compared to ensemble models.*\n",
    "\n",
    "## **Key Takeaways**\n",
    "- **Tree-based models (Random Forest, XGBoost) outperformed other methods**, achieving the lowest MSE and highest R², making them the most effective for this dataset.\n",
    "- **Polynomial Regression failed to generalize**, highlighting its limitations for highly nonlinear relationships.\n",
    "- **Neural Networks showed promise but require further tuning** to reach optimal performance.\n",
    "\n",
    "## **Conclusion**\n",
    "This study demonstrates that **ensemble learning methods like Random Forest and XGBoost provide the best balance of accuracy and generalization** for noisy, nonlinear datasets. While neural networks remain a viable option, they may require additional optimization to match tree-based model performance. These findings can help inform model selection strategies for complex regression tasks.\n"
   ]
  },
  {
   "cell_type": "code",
   "execution_count": 1,
   "id": "762946e4",
   "metadata": {},
   "outputs": [],
   "source": [
    "import matplotlib.pyplot as plt\n",
    "import matplotlib as mpl\n",
    "from mpl_toolkits.mplot3d import Axes3D\n",
    "import numpy as np\n",
    "import pandas as pd\n",
    "from sklearn.model_selection import train_test_split\n",
    "from sklearn.preprocessing import StandardScaler, PolynomialFeatures\n",
    "from sklearn.metrics import mean_squared_error, r2_score\n",
    "from sklearn.ensemble import RandomForestRegressor\n",
    "from xgboost import XGBRegressor\n",
    "from tensorflow.keras.models import Sequential\n",
    "from tensorflow.keras.layers import Dense"
   ]
  },
  {
   "cell_type": "code",
   "execution_count": 2,
   "id": "2de84701",
   "metadata": {},
   "outputs": [],
   "source": [
    "# Load Data\n",
    "data = pd.read_csv(\"3DSinusoidalANN.csv\")\n",
    "X = data[['x', 'z']].values\n",
    "y = data['y'].values"
   ]
  },
  {
   "cell_type": "code",
   "execution_count": 3,
   "id": "3344aac6",
   "metadata": {},
   "outputs": [],
   "source": [
    "# Split Data\n",
    "X_train, X_test, y_train, y_test = train_test_split(X, y, test_size=0.2, random_state=42)"
   ]
  },
  {
   "cell_type": "code",
   "execution_count": 4,
   "id": "d4deb540",
   "metadata": {},
   "outputs": [],
   "source": [
    "# Scale Data\n",
    "scaler = StandardScaler()\n",
    "X_train_scaled = scaler.fit_transform(X_train)\n",
    "X_test_scaled = scaler.transform(X_test)"
   ]
  },
  {
   "cell_type": "code",
   "execution_count": 5,
   "id": "e99d0c64",
   "metadata": {},
   "outputs": [],
   "source": [
    "# Polynomial Regression\n",
    "poly = PolynomialFeatures(degree=5)\n",
    "X_train_poly = poly.fit_transform(X_train)\n",
    "X_test_poly = poly.transform(X_test)\n",
    "from sklearn.linear_model import LinearRegression\n",
    "poly_model = LinearRegression()\n",
    "poly_model.fit(X_train_poly, y_train)\n",
    "poly_preds = poly_model.predict(X_test_poly)"
   ]
  },
  {
   "cell_type": "code",
   "execution_count": 6,
   "id": "3446b9dd",
   "metadata": {},
   "outputs": [],
   "source": [
    "# Random Forest Regressor\n",
    "rf_model = RandomForestRegressor(n_estimators=100, random_state=42)\n",
    "rf_model.fit(X_train, y_train)\n",
    "rf_preds = rf_model.predict(X_test)"
   ]
  },
  {
   "cell_type": "code",
   "execution_count": 7,
   "id": "c9feedc4",
   "metadata": {},
   "outputs": [],
   "source": [
    "# XGBoost Regressor\n",
    "xgb_model = XGBRegressor(objective='reg:squarederror', n_estimators=100, random_state=42)\n",
    "xgb_model.fit(X_train, y_train)\n",
    "xgb_preds = xgb_model.predict(X_test)"
   ]
  },
  {
   "cell_type": "code",
   "execution_count": 8,
   "id": "cfee4cf6",
   "metadata": {},
   "outputs": [
    {
     "name": "stderr",
     "output_type": "stream",
     "text": [
      "C:\\Users\\jaycz\\AppData\\Roaming\\Python\\Python311\\site-packages\\keras\\src\\layers\\core\\dense.py:87: UserWarning: Do not pass an `input_shape`/`input_dim` argument to a layer. When using Sequential models, prefer using an `Input(shape)` object as the first layer in the model instead.\n",
      "  super().__init__(activity_regularizer=activity_regularizer, **kwargs)\n"
     ]
    },
    {
     "name": "stdout",
     "output_type": "stream",
     "text": [
      "\u001b[1m4/4\u001b[0m \u001b[32m━━━━━━━━━━━━━━━━━━━━\u001b[0m\u001b[37m\u001b[0m \u001b[1m0s\u001b[0m 24ms/step\n"
     ]
    }
   ],
   "source": [
    "# Neural Network Model\n",
    "nn_model = Sequential([\n",
    "    Dense(units=64, activation='relu', input_shape=(2,)),\n",
    "    Dense(units=32, activation='relu'),\n",
    "    Dense(units=1)\n",
    "])\n",
    "nn_model.compile(optimizer='adam', loss='mean_squared_error')\n",
    "nn_model.fit(X_train_scaled, y_train, epochs=100, verbose=0)\n",
    "nn_preds = nn_model.predict(X_test_scaled).flatten()\n"
   ]
  },
  {
   "cell_type": "code",
   "execution_count": 9,
   "id": "58e9ffb2",
   "metadata": {},
   "outputs": [
    {
     "name": "stdout",
     "output_type": "stream",
     "text": [
      "Polynomial Regression: MSE = 3.8608, R-squared = 0.6863\n",
      "Random Forest: MSE = 0.2202, R-squared = 0.9821\n",
      "XGBoost: MSE = 0.2640, R-squared = 0.9785\n",
      "Neural Network: MSE = 0.5485, R-squared = 0.9554\n"
     ]
    }
   ],
   "source": [
    "# Evaluate Models\n",
    "models = {\"Polynomial Regression\": poly_preds, \"Random Forest\": rf_preds, \"XGBoost\": xgb_preds, \"Neural Network\": nn_preds}\n",
    "for name, preds in models.items():\n",
    "    mse = mean_squared_error(y_test, preds)\n",
    "    r2 = r2_score(y_test, preds)\n",
    "    print(f\"{name}: MSE = {mse:.4f}, R-squared = {r2:.4f}\")"
   ]
  },
  {
   "cell_type": "code",
   "execution_count": null,
   "id": "808f9ba3",
   "metadata": {},
   "outputs": [],
   "source": [
    "# Visualize Predictions\n",
    "fig = plt.figure(figsize=(10, 7))\n",
    "ax = fig.add_subplot(111, projection='3d')\n",
    "ax.scatter(X_test[:, 0], X_test[:, 1], y_test, color='red', marker='.', label='Actual Data')\n",
    "ax.scatter(X_test[:, 0], X_test[:, 1], nn_preds, color='blue', marker='.', label='Neural Network')\n",
    "ax.set_xlabel('X')\n",
    "ax.set_ylabel('Z')\n",
    "ax.set_zlabel('Y')\n",
    "ax.set_title('Comparison of Neural Network Predictions with Actual Data')\n",
    "plt.legend()\n",
    "plt.show()"
   ]
  }
 ],
 "metadata": {
  "kernelspec": {
   "display_name": "Python 3 (ipykernel)",
   "language": "python",
   "name": "python3"
  },
  "language_info": {
   "codemirror_mode": {
    "name": "ipython",
    "version": 3
   },
   "file_extension": ".py",
   "mimetype": "text/x-python",
   "name": "python",
   "nbconvert_exporter": "python",
   "pygments_lexer": "ipython3",
   "version": "3.11.4"
  }
 },
 "nbformat": 4,
 "nbformat_minor": 5
}
